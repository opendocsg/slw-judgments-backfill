{
 "cells": [
  {
   "cell_type": "markdown",
   "metadata": {},
   "source": [
    "We want to extract the following types of citations:\n",
    "\n",
    "1.       Neutral citations:\n",
    "\n",
    "    a.       Court of Appeal judgments are cited as: [year] SGCA number, for (fictitious) example Public Prosecutor v Tan Ah Kow [2019] SGCA 111\n",
    "\n",
    "    b.       High Court judgements are cited as: [year] SGHC number, for (fictitious) example Public Prosecutor v Tan Ah Kow [2019] SGHC 111\n",
    "\n",
    "    c.       District Courts judgements are cited as: [year] SGDC number, for (fictitious) example Public Prosecutor v Tan Ah Kow [2019] SGDC 111\n",
    "\n",
    "\n",
    "2.       Reported citations (i.e. these cases have been published in the law reports):\n",
    "\n",
    "    a.       Singapore Law Reports are cited as: [year] volume number SLR page number, for (fictitious) example Public Prosecutor v Tan Ah Kow [2019] 1 SLR 111\n",
    "\n",
    "    b.       Reprints of the Singapore Law Reports are cited as: [year] volume number SLR(R) page number, for (fictitious) example, Public Prosecutor v Tan Ah Kow [2019] 2 SLR(R) 113\n"
   ]
  },
  {
   "cell_type": "code",
   "execution_count": 1,
   "metadata": {
    "scrolled": true
   },
   "outputs": [
    {
     "name": "stdout",
     "output_type": "stream",
     "text": [
      "WARNING: Citation discrepancy in /Users/lauralee/Dev/opendoc/slw-judgments-backfill/2008_SGHC_113/report.md\n",
      "WARNING: Citation discrepancy in /Users/lauralee/Dev/opendoc/slw-judgments-backfill/2009_SGHC_96/report.md\n",
      "WARNING: Citation discrepancy in /Users/lauralee/Dev/opendoc/slw-judgments-backfill/2012_SGHCR_18/report.md\n",
      "WARNING: Citation discrepancy in /Users/lauralee/Dev/opendoc/slw-judgments-backfill/2014_SGCA_29/report.md\n",
      "WARNING: Citation discrepancy in /Users/lauralee/Dev/opendoc/slw-judgments-backfill/2008_SGHC_77/report.md\n"
     ]
    }
   ],
   "source": [
    "import os\n",
    "import sys\n",
    "sys.path.insert(0, '/Users/lauralee/Dev/opendoc/slw-judgments-backfill/')\n",
    "\n",
    "from utils.linkify import linkify_legal_doc\n",
    "\n",
    "judgments_dir = '/Users/lauralee/Dev/opendoc/slw-judgments-backfill'\n",
    "\n",
    "# Walk through judgments directory to linkify all legal documents\n",
    "for root, subdirs, files in os.walk(judgments_dir):\n",
    "    for file in files:\n",
    "        if file == 'report.md':\n",
    "            file_path = os.path.join(root, file)\n",
    "            linkify_legal_doc(file_path, overwrite=True)"
   ]
  }
 ],
 "metadata": {
  "kernelspec": {
   "display_name": "Python 3",
   "language": "python",
   "name": "python3"
  },
  "language_info": {
   "codemirror_mode": {
    "name": "ipython",
    "version": 3
   },
   "file_extension": ".py",
   "mimetype": "text/x-python",
   "name": "python",
   "nbconvert_exporter": "python",
   "pygments_lexer": "ipython3",
   "version": "3.7.3"
  }
 },
 "nbformat": 4,
 "nbformat_minor": 2
}
